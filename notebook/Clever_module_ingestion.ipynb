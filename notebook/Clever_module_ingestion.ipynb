{
  "cells": [
    {
      "cell_type": "markdown",
      "source": [
        "# Clever Module Example Notebook\r\n",
        "\r\n",
        "### NOTES ON MODULE \r\n",
        "\r\n",
        "Pretty close:\r\n",
        " - Need to resolve a way to take in data from all users (consider writing out all three - Students, Staff, and Teachers - to separate folders in stage 2)\r\n",
        " - Consider only taking in \"Students\" data for the sake of the module, or joining all students/teachers/staff data together into a single table (would then need to add an additional column pertaining to the type of user)\r\n"
      ],
      "metadata": {
        "nteract": {
          "transient": {
            "deleting": false
          }
        }
      }
    },
    {
      "cell_type": "code",
      "source": [
        "%run /OEA_py"
      ],
      "outputs": [
        {
          "output_type": "display_data",
          "data": {
            "application/vnd.livy.statement-meta+json": {
              "spark_pool": null,
              "session_id": "19",
              "statement_id": -1,
              "state": "finished",
              "livy_statement_state": "available",
              "queued_time": "2022-08-05T13:52:22.7752303Z",
              "session_start_time": null,
              "execution_start_time": "2022-08-05T13:56:16.4495547Z",
              "execution_finish_time": "2022-08-05T13:56:16.4498668Z",
              "spark_jobs": null
            },
            "text/plain": "StatementMeta(, 19, -1, Finished, Available)"
          },
          "metadata": {}
        },
        {
          "output_type": "stream",
          "name": "stdout",
          "text": [
            "2022-08-05 13:56:16,078 - OEA - DEBUG - OEA initialized.\nOEA initialized.\n"
          ]
        }
      ],
      "execution_count": 1,
      "metadata": {
        "jupyter": {
          "source_hidden": false,
          "outputs_hidden": false
        },
        "nteract": {
          "transient": {
            "deleting": false
          }
        }
      }
    },
    {
      "cell_type": "code",
      "source": [
        "%run /Clever_py"
      ],
      "outputs": [
        {
          "output_type": "display_data",
          "data": {
            "application/vnd.livy.statement-meta+json": {
              "spark_pool": null,
              "session_id": "19",
              "statement_id": -1,
              "state": "finished",
              "livy_statement_state": "available",
              "queued_time": "2022-08-05T13:52:25.4494228Z",
              "session_start_time": null,
              "execution_start_time": "2022-08-05T13:56:16.8841004Z",
              "execution_finish_time": "2022-08-05T13:56:16.8844376Z",
              "spark_jobs": null
            },
            "text/plain": "StatementMeta(, 19, -1, Finished, Available)"
          },
          "metadata": {}
        }
      ],
      "execution_count": 2,
      "metadata": {
        "jupyter": {
          "source_hidden": false,
          "outputs_hidden": false
        },
        "nteract": {
          "transient": {
            "deleting": false
          }
        }
      }
    },
    {
      "cell_type": "code",
      "source": [
        "# 0) Initialize the OEA framework and modules needed.\r\n",
        "oea = OEA()\r\n",
        "clever = Clever()"
      ],
      "outputs": [
        {
          "output_type": "display_data",
          "data": {
            "application/vnd.livy.statement-meta+json": {
              "spark_pool": "sparkMed",
              "session_id": "19",
              "statement_id": 4,
              "state": "finished",
              "livy_statement_state": "available",
              "queued_time": "2022-08-05T13:52:27.1700703Z",
              "session_start_time": null,
              "execution_start_time": "2022-08-05T13:56:17.0147734Z",
              "execution_finish_time": "2022-08-05T13:56:22.6469512Z",
              "spark_jobs": null
            },
            "text/plain": "StatementMeta(sparkMed, 19, 4, Finished, Available)"
          },
          "metadata": {}
        },
        {
          "output_type": "stream",
          "name": "stdout",
          "text": [
            "2022-08-05 13:56:22,619 - OEA - DEBUG - OEA initialized.\n2022-08-05 13:56:22,619 - OEA - DEBUG - OEA initialized.\nOEA initialized.\n"
          ]
        }
      ],
      "execution_count": 3,
      "metadata": {
        "jupyter": {
          "source_hidden": false,
          "outputs_hidden": false
        },
        "nteract": {
          "transient": {
            "deleting": false
          }
        }
      }
    },
    {
      "cell_type": "code",
      "source": [
        "clever.ingest()"
      ],
      "outputs": [
        {
          "output_type": "display_data",
          "data": {
            "application/vnd.livy.statement-meta+json": {
              "spark_pool": "sparkMed",
              "session_id": "19",
              "statement_id": 5,
              "state": "finished",
              "livy_statement_state": "available",
              "queued_time": "2022-08-05T13:52:28.7620134Z",
              "session_start_time": null,
              "execution_start_time": "2022-08-05T13:56:22.7422297Z",
              "execution_finish_time": "2022-08-05T13:56:41.5455927Z",
              "spark_jobs": null
            },
            "text/plain": "StatementMeta(sparkMed, 19, 5, Finished, Available)"
          },
          "metadata": {}
        },
        {
          "output_type": "stream",
          "name": "stdout",
          "text": [
            "2022-08-05 13:56:22,733 - OEA - INFO - Processing clever data from: abfss://stage1np@stoeacisd3v06kw2.dfs.core.windows.net/clever\n2022-08-05 13:56:22,733 - OEA - INFO - Processing clever data from: abfss://stage1np@stoeacisd3v06kw2.dfs.core.windows.net/clever\nProcessing clever data from: abfss://stage1np@stoeacisd3v06kw2.dfs.core.windows.net/clever\n2022-08-05 13:56:22,763 - OEA - INFO - Processing incremental data from: abfss://stage1np@stoeacisd3v06kw2.dfs.core.windows.net/clever/daily-participation and writing out to: abfss://stage2p@stoeacisd3v06kw2.dfs.core.windows.net/clever/daily_participation_pseudo\n2022-08-05 13:56:22,763 - OEA - INFO - Processing incremental data from: abfss://stage1np@stoeacisd3v06kw2.dfs.core.windows.net/clever/daily-participation and writing out to: abfss://stage2p@stoeacisd3v06kw2.dfs.core.windows.net/clever/daily_participation_pseudo\nProcessing incremental data from: abfss://stage1np@stoeacisd3v06kw2.dfs.core.windows.net/clever/daily-participation and writing out to: abfss://stage2p@stoeacisd3v06kw2.dfs.core.windows.net/clever/daily_participation_pseudo\n2022-08-05 13:56:32,374 - OEA - INFO - Processing incremental data from: abfss://stage1np@stoeacisd3v06kw2.dfs.core.windows.net/clever/resource-usage and writing out to: abfss://stage2p@stoeacisd3v06kw2.dfs.core.windows.net/clever/resource_usage_pseudo\n2022-08-05 13:56:32,374 - OEA - INFO - Processing incremental data from: abfss://stage1np@stoeacisd3v06kw2.dfs.core.windows.net/clever/resource-usage and writing out to: abfss://stage2p@stoeacisd3v06kw2.dfs.core.windows.net/clever/resource_usage_pseudo\nProcessing incremental data from: abfss://stage1np@stoeacisd3v06kw2.dfs.core.windows.net/clever/resource-usage and writing out to: abfss://stage2p@stoeacisd3v06kw2.dfs.core.windows.net/clever/resource_usage_pseudo\n2022-08-05 13:56:39,841 - OEA - INFO - Finished processing clever data from stage 1 to stage 2\n2022-08-05 13:56:39,841 - OEA - INFO - Finished processing clever data from stage 1 to stage 2\nFinished processing clever data from stage 1 to stage 2\n"
          ]
        }
      ],
      "execution_count": 4,
      "metadata": {
        "jupyter": {
          "source_hidden": false,
          "outputs_hidden": false
        },
        "nteract": {
          "transient": {
            "deleting": false
          }
        }
      }
    }
  ],
  "metadata": {
    "kernelspec": {
      "name": "synapse_pyspark",
      "language": "Python",
      "display_name": "Synapse PySpark"
    },
    "language_info": {
      "name": "python"
    },
    "kernel_info": {
      "name": "synapse_pyspark"
    },
    "description": null,
    "save_output": true,
    "synapse_widget": {
      "version": "0.1",
      "state": {}
    }
  },
  "nbformat": 4,
  "nbformat_minor": 2
}